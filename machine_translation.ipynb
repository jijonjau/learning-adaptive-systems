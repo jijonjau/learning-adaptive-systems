{
  "nbformat": 4,
  "nbformat_minor": 0,
  "metadata": {
    "colab": {
      "provenance": [],
      "gpuType": "V28",
      "authorship_tag": "ABX9TyOoZbMNdc7I7UUxxmrefzwK",
      "include_colab_link": true
    },
    "kernelspec": {
      "name": "python3",
      "display_name": "Python 3"
    },
    "language_info": {
      "name": "python"
    },
    "accelerator": "TPU"
  },
  "cells": [
    {
      "cell_type": "markdown",
      "metadata": {
        "id": "view-in-github",
        "colab_type": "text"
      },
      "source": [
        "<a href=\"https://colab.research.google.com/github/jijonjau/learning-adaptive-systems/blob/main/machine_translation.ipynb\" target=\"_parent\"><img src=\"https://colab.research.google.com/assets/colab-badge.svg\" alt=\"Open In Colab\"/></a>"
      ]
    },
    {
      "cell_type": "code",
      "execution_count": 2,
      "metadata": {
        "colab": {
          "base_uri": "https://localhost:8080/"
        },
        "id": "_LVPLLDZx-TB",
        "outputId": "26e644f5-940e-43d1-cf0c-5401eace8fb5"
      },
      "outputs": [
        {
          "output_type": "stream",
          "name": "stdout",
          "text": [
            "English: Hello, how are you?\n",
            "Swahili: Halo, habari yako?\n",
            "Swahili: Habari, unajisikiaje?\n",
            "English: Hello, how do you feel?\n"
          ]
        }
      ],
      "source": [
        "from googletrans import Translator\n",
        "\n",
        "# Initialize the translator\n",
        "translator = Translator()\n",
        "\n",
        "# Function to translate English to Swahili\n",
        "def translate_to_swahili(text):\n",
        "    translation = translator.translate(text, src='en', dest='sw')\n",
        "    return translation.text\n",
        "\n",
        "# Function to translate Swahili to English\n",
        "def translate_to_english(text):\n",
        "    translation = translator.translate(text, src='sw', dest='en')\n",
        "    return translation.text\n",
        "\n",
        "# Test the translation\n",
        "english_text = \"Hello, how are you?\"\n",
        "swahili_translation = translate_to_swahili(english_text)\n",
        "print(f\"English: {english_text}\")\n",
        "print(f\"Swahili: {swahili_translation}\")\n",
        "\n",
        "swahili_text = \"Habari, unajisikiaje?\"\n",
        "english_translation = translate_to_english(swahili_text)\n",
        "print(f\"Swahili: {swahili_text}\")\n",
        "print(f\"English: {english_translation}\")"
      ]
    }
  ]
}